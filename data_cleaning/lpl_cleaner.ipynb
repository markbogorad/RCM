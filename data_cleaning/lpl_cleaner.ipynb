{
 "cells": [
  {
   "cell_type": "markdown",
   "metadata": {},
   "source": [
    "# LPL Data Cleaner\n",
    "\n",
    "## 1) EDA"
   ]
  },
  {
   "cell_type": "markdown",
   "metadata": {},
   "source": [
    "# Packages + Data Load"
   ]
  },
  {
   "cell_type": "code",
   "execution_count": 89,
   "metadata": {},
   "outputs": [
    {
     "name": "stdout",
     "output_type": "stream",
     "text": [
      "Defaulting to user installation because normal site-packages is not writeable\n",
      "Requirement already satisfied: pandas in c:\\users\\markbogorad\\appdata\\roaming\\python\\python312\\site-packages (2.3.0)\n",
      "Requirement already satisfied: openpyxl in c:\\users\\markbogorad\\appdata\\roaming\\python\\python312\\site-packages (3.1.5)\n",
      "Requirement already satisfied: matplotlib in c:\\users\\markbogorad\\appdata\\roaming\\python\\python312\\site-packages (3.10.3)\n",
      "Requirement already satisfied: numpy>=1.26.0 in c:\\users\\markbogorad\\appdata\\roaming\\python\\python312\\site-packages (from pandas) (2.3.0)\n",
      "Requirement already satisfied: python-dateutil>=2.8.2 in c:\\users\\markbogorad\\appdata\\roaming\\python\\python312\\site-packages (from pandas) (2.9.0.post0)\n",
      "Requirement already satisfied: pytz>=2020.1 in c:\\users\\markbogorad\\appdata\\roaming\\python\\python312\\site-packages (from pandas) (2025.2)\n",
      "Requirement already satisfied: tzdata>=2022.7 in c:\\users\\markbogorad\\appdata\\roaming\\python\\python312\\site-packages (from pandas) (2025.2)\n",
      "Requirement already satisfied: et-xmlfile in c:\\users\\markbogorad\\appdata\\roaming\\python\\python312\\site-packages (from openpyxl) (2.0.0)\n",
      "Requirement already satisfied: contourpy>=1.0.1 in c:\\users\\markbogorad\\appdata\\roaming\\python\\python312\\site-packages (from matplotlib) (1.3.2)\n",
      "Requirement already satisfied: cycler>=0.10 in c:\\users\\markbogorad\\appdata\\roaming\\python\\python312\\site-packages (from matplotlib) (0.12.1)\n",
      "Requirement already satisfied: fonttools>=4.22.0 in c:\\users\\markbogorad\\appdata\\roaming\\python\\python312\\site-packages (from matplotlib) (4.58.2)\n",
      "Requirement already satisfied: kiwisolver>=1.3.1 in c:\\users\\markbogorad\\appdata\\roaming\\python\\python312\\site-packages (from matplotlib) (1.4.8)\n",
      "Requirement already satisfied: packaging>=20.0 in c:\\users\\markbogorad\\appdata\\roaming\\python\\python312\\site-packages (from matplotlib) (25.0)\n",
      "Requirement already satisfied: pillow>=8 in c:\\users\\markbogorad\\appdata\\roaming\\python\\python312\\site-packages (from matplotlib) (11.2.1)\n",
      "Requirement already satisfied: pyparsing>=2.3.1 in c:\\users\\markbogorad\\appdata\\roaming\\python\\python312\\site-packages (from matplotlib) (3.2.3)\n",
      "Requirement already satisfied: six>=1.5 in c:\\users\\markbogorad\\appdata\\roaming\\python\\python312\\site-packages (from python-dateutil>=2.8.2->pandas) (1.17.0)\n",
      "Note: you may need to restart the kernel to use updated packages.\n"
     ]
    },
    {
     "name": "stderr",
     "output_type": "stream",
     "text": [
      "\n",
      "[notice] A new release of pip is available: 25.0.1 -> 25.1.1\n",
      "[notice] To update, run: python.exe -m pip install --upgrade pip\n"
     ]
    }
   ],
   "source": [
    "%pip install pandas openpyxl matplotlib\n",
    "import pandas as pd\n",
    "import matplotlib.pyplot as plt\n",
    "import os"
   ]
  },
  {
   "cell_type": "code",
   "execution_count": 90,
   "metadata": {},
   "outputs": [
    {
     "data": {
      "text/html": [
       "<div>\n",
       "<style scoped>\n",
       "    .dataframe tbody tr th:only-of-type {\n",
       "        vertical-align: middle;\n",
       "    }\n",
       "\n",
       "    .dataframe tbody tr th {\n",
       "        vertical-align: top;\n",
       "    }\n",
       "\n",
       "    .dataframe thead th {\n",
       "        text-align: right;\n",
       "    }\n",
       "</style>\n",
       "<table border=\"1\" class=\"dataframe\">\n",
       "  <thead>\n",
       "    <tr style=\"text-align: right;\">\n",
       "      <th></th>\n",
       "      <th>First Name</th>\n",
       "      <th>Last Name</th>\n",
       "      <th>Full Name</th>\n",
       "      <th>Firm</th>\n",
       "      <th>Contact Owner</th>\n",
       "      <th>Tier (Muni Use)</th>\n",
       "      <th>Address1</th>\n",
       "      <th>Address2</th>\n",
       "      <th>Email</th>\n",
       "      <th>Team</th>\n",
       "      <th>City</th>\n",
       "      <th>State2</th>\n",
       "      <th>Zip</th>\n",
       "      <th>Manager Phone</th>\n",
       "      <th>Phone</th>\n",
       "      <th>FA Name</th>\n",
       "      <th>Job Title</th>\n",
       "      <th>Test Combos</th>\n",
       "    </tr>\n",
       "  </thead>\n",
       "  <tbody>\n",
       "    <tr>\n",
       "      <th>0</th>\n",
       "      <td>Angela</td>\n",
       "      <td>Johnson</td>\n",
       "      <td>Angela Johnson</td>\n",
       "      <td>Stifel</td>\n",
       "      <td>NaN</td>\n",
       "      <td>NaN</td>\n",
       "      <td>18000 West Sarah Lane</td>\n",
       "      <td>NaN</td>\n",
       "      <td>angela.johnson@stifel.com</td>\n",
       "      <td>NaN</td>\n",
       "      <td>Brookfield</td>\n",
       "      <td>WI</td>\n",
       "      <td>53045</td>\n",
       "      <td>NaN</td>\n",
       "      <td>NaN</td>\n",
       "      <td>NaN</td>\n",
       "      <td>Financial Advisor</td>\n",
       "      <td>2.0</td>\n",
       "    </tr>\n",
       "    <tr>\n",
       "      <th>1</th>\n",
       "      <td>Carl</td>\n",
       "      <td>Petersen</td>\n",
       "      <td>Carl Petersen</td>\n",
       "      <td>Stifel</td>\n",
       "      <td>NaN</td>\n",
       "      <td>NaN</td>\n",
       "      <td>50 W. Liberty</td>\n",
       "      <td>NaN</td>\n",
       "      <td>carl.petersen@stifel.com</td>\n",
       "      <td>NaN</td>\n",
       "      <td>Reno</td>\n",
       "      <td>NV</td>\n",
       "      <td>89501</td>\n",
       "      <td>NaN</td>\n",
       "      <td>NaN</td>\n",
       "      <td>NaN</td>\n",
       "      <td>Vice President/Investments</td>\n",
       "      <td>2.0</td>\n",
       "    </tr>\n",
       "    <tr>\n",
       "      <th>2</th>\n",
       "      <td>Barry</td>\n",
       "      <td>Gangwer</td>\n",
       "      <td>Barry Gangwer</td>\n",
       "      <td>Stifel</td>\n",
       "      <td>NaN</td>\n",
       "      <td>NaN</td>\n",
       "      <td>6301 Waterford Boulevard</td>\n",
       "      <td>NaN</td>\n",
       "      <td>barry.gangwer@stifel.com</td>\n",
       "      <td>NaN</td>\n",
       "      <td>Oklahoma City</td>\n",
       "      <td>OK</td>\n",
       "      <td>73118</td>\n",
       "      <td>NaN</td>\n",
       "      <td>NaN</td>\n",
       "      <td>NaN</td>\n",
       "      <td>Sr. VP/Investments</td>\n",
       "      <td>2.0</td>\n",
       "    </tr>\n",
       "    <tr>\n",
       "      <th>3</th>\n",
       "      <td>David</td>\n",
       "      <td>Parker</td>\n",
       "      <td>David Parker</td>\n",
       "      <td>Stifel</td>\n",
       "      <td>NaN</td>\n",
       "      <td>NaN</td>\n",
       "      <td>100 North Tampa Street</td>\n",
       "      <td>NaN</td>\n",
       "      <td>david.parker@stifel.com</td>\n",
       "      <td>NaN</td>\n",
       "      <td>Tampa</td>\n",
       "      <td>FL</td>\n",
       "      <td>33602</td>\n",
       "      <td>NaN</td>\n",
       "      <td>NaN</td>\n",
       "      <td>NaN</td>\n",
       "      <td>Vice President/Investments</td>\n",
       "      <td>2.0</td>\n",
       "    </tr>\n",
       "    <tr>\n",
       "      <th>4</th>\n",
       "      <td>Dan</td>\n",
       "      <td>Spring</td>\n",
       "      <td>Dan Spring</td>\n",
       "      <td>Stifel</td>\n",
       "      <td>NaN</td>\n",
       "      <td>NaN</td>\n",
       "      <td>38 East Main Street</td>\n",
       "      <td>NaN</td>\n",
       "      <td>dan.spring@stifel.com</td>\n",
       "      <td>NaN</td>\n",
       "      <td>Mystic</td>\n",
       "      <td>CT</td>\n",
       "      <td>6355</td>\n",
       "      <td>NaN</td>\n",
       "      <td>NaN</td>\n",
       "      <td>NaN</td>\n",
       "      <td>Branch Manager</td>\n",
       "      <td>2.0</td>\n",
       "    </tr>\n",
       "  </tbody>\n",
       "</table>\n",
       "</div>"
      ],
      "text/plain": [
       "  First Name Last Name       Full Name    Firm Contact Owner Tier (Muni Use)  \\\n",
       "0     Angela   Johnson  Angela Johnson  Stifel           NaN             NaN   \n",
       "1       Carl  Petersen   Carl Petersen  Stifel           NaN             NaN   \n",
       "2      Barry   Gangwer   Barry Gangwer  Stifel           NaN             NaN   \n",
       "3      David    Parker    David Parker  Stifel           NaN             NaN   \n",
       "4        Dan    Spring      Dan Spring  Stifel           NaN             NaN   \n",
       "\n",
       "                   Address1 Address2                      Email Team   \\\n",
       "0     18000 West Sarah Lane      NaN  angela.johnson@stifel.com   NaN   \n",
       "1             50 W. Liberty      NaN   carl.petersen@stifel.com   NaN   \n",
       "2  6301 Waterford Boulevard      NaN   barry.gangwer@stifel.com   NaN   \n",
       "3    100 North Tampa Street      NaN    david.parker@stifel.com   NaN   \n",
       "4       38 East Main Street      NaN      dan.spring@stifel.com   NaN   \n",
       "\n",
       "            City State2    Zip Manager Phone Phone FA Name  \\\n",
       "0     Brookfield     WI  53045           NaN   NaN     NaN   \n",
       "1           Reno     NV  89501           NaN   NaN     NaN   \n",
       "2  Oklahoma City     OK  73118           NaN   NaN     NaN   \n",
       "3          Tampa     FL  33602           NaN   NaN     NaN   \n",
       "4         Mystic     CT   6355           NaN   NaN     NaN   \n",
       "\n",
       "                    Job Title  Test Combos  \n",
       "0           Financial Advisor          2.0  \n",
       "1  Vice President/Investments          2.0  \n",
       "2          Sr. VP/Investments          2.0  \n",
       "3  Vice President/Investments          2.0  \n",
       "4              Branch Manager          2.0  "
      ]
     },
     "execution_count": 90,
     "metadata": {},
     "output_type": "execute_result"
    }
   ],
   "source": [
    "file_path = r\"C:\\Users\\MarkBogorad\\OneDrive - Rockefeller Capital Management\\MarkB\\RCM\\data\\Stifel_Master_ContactList_6.10.25.xlsx\"\n",
    "df = pd.read_excel(file_path)\n",
    "\n",
    "# Display the first few rows\n",
    "df.head()\n"
   ]
  },
  {
   "cell_type": "markdown",
   "metadata": {},
   "source": [
    "# Dupe Check"
   ]
  },
  {
   "cell_type": "code",
   "execution_count": 91,
   "metadata": {},
   "outputs": [
    {
     "name": "stdout",
     "output_type": "stream",
     "text": [
      "2609 duplicate email(s) removed\n"
     ]
    }
   ],
   "source": [
    "# Count duplicates in the 'Email' column\n",
    "num_duplicates = df.duplicated(subset='Email').sum()\n",
    "\n",
    "# Drop duplicate rows based on the 'Email' column, keeping only the first occurrence\n",
    "df_cleaned = df.drop_duplicates(subset='Email', keep='first')\n",
    "\n",
    "\n",
    "print(f\"{num_duplicates} duplicate email(s) removed\")\n",
    "\n"
   ]
  },
  {
   "cell_type": "markdown",
   "metadata": {},
   "source": [
    "# Adding in Empty First and Last Names"
   ]
  },
  {
   "cell_type": "code",
   "execution_count": 92,
   "metadata": {},
   "outputs": [],
   "source": [
    "# Fill missing first/last names from Full Name\n",
    "for index, row in df.iterrows():\n",
    "    if pd.notna(row['Full Name']) and (pd.isna(row.get('First Name')) or pd.isna(row.get('Last Name'))):\n",
    "        parts = row['Full Name'].strip().split()\n",
    "        if len(parts) >= 2:\n",
    "            df.at[index, 'First Name'] = parts[0]\n",
    "            df.at[index, 'Last Name'] = parts[-1]\n"
   ]
  },
  {
   "cell_type": "markdown",
   "metadata": {},
   "source": [
    "# Contacts vs Bounce Cross Reference\n",
    "\n",
    "- 1 = unverified (worth testing)\n",
    "- 2 = bounced (need to test)\n",
    "- 0 = confirmed right conact"
   ]
  },
  {
   "cell_type": "markdown",
   "metadata": {},
   "source": [
    "# Bounced Emails Alternatives"
   ]
  },
  {
   "cell_type": "code",
   "execution_count": 93,
   "metadata": {},
   "outputs": [
    {
     "name": "stdout",
     "output_type": "stream",
     "text": [
      "Email variants saved to 'c:\\Users\\MarkBogorad\\OneDrive - Rockefeller Capital Management\\MarkB\\RCM\\data\\final_email_list.xlsx'.\n"
     ]
    }
   ],
   "source": [
    "\n",
    "# Step 1: Filter rows with Test Combos 1 or 2\n",
    "test_df = df[df['Test Combos'].isin([1, 2])].copy()\n",
    "\n",
    "# Step 2: Generate email variants from names\n",
    "def generate_email_variants(first_name, last_name, domain=\"@stifel.com\"):\n",
    "    variants = set()\n",
    "    first = first_name.lower()\n",
    "    last = last_name.lower()\n",
    "\n",
    "    variants.update([\n",
    "        f\"{first}.{last}\",\n",
    "        f\"{last}.{first}\",\n",
    "        f\"{first[0]}{last}\",\n",
    "        f\"{last}{first[0]}\"\n",
    "    ])\n",
    "\n",
    "    return [v + domain for v in variants]\n",
    "\n",
    "# Step 3: Create new rows with generated emails\n",
    "new_rows = []\n",
    "\n",
    "for _, row in test_df.iterrows():\n",
    "    full_name = row['Full Name']\n",
    "    if pd.isna(full_name):\n",
    "        continue\n",
    "\n",
    "    parts = full_name.strip().split()\n",
    "    if len(parts) < 2:\n",
    "        continue  # skip if we can't split into first and last\n",
    "\n",
    "    first, last = parts[0], parts[-1]\n",
    "    email_variants = generate_email_variants(first, last)\n",
    "\n",
    "    for email in email_variants:\n",
    "        new_row = row.copy()\n",
    "        new_row['Email'] = email\n",
    "        new_row['Test Combos'] = 3\n",
    "        new_rows.append(new_row)\n",
    "\n",
    "# Step 4: Append new rows to original DataFrame\n",
    "variant_df = pd.DataFrame(new_rows)\n",
    "final_df = pd.concat([df, variant_df], ignore_index=True)\n",
    "\n",
    "# Step 5: Save to Excel in the RCM/data folder\n",
    "output_path = os.path.join(data_dir, 'final_email_list.xlsx')\n",
    "final_df.to_excel(output_path, index=False)\n",
    "\n",
    "print(f\"Email variants saved to '{output_path}'.\")\n",
    "\n"
   ]
  },
  {
   "cell_type": "markdown",
   "metadata": {},
   "source": [
    "# Bounced Emails Cross Check\n",
    "- Scan bounced emails, use most common pattern from Stifel contacts to create variants of the bounced emails that should work"
   ]
  },
  {
   "cell_type": "code",
   "execution_count": 98,
   "metadata": {},
   "outputs": [
    {
     "name": "stdout",
     "output_type": "stream",
     "text": [
      "📁 Contents of RCM/data: ['bounce_list.xlsx', 'final_email_list.xlsx', 'remixed_bounced_emails.xlsx', 'Stifel_Master_ContactList_6.10.25.xlsx', 'Stifel_variations_list.xlsx']\n",
      "✅ All required files found. Proceeding with processing...\n",
      "📧 Found 1168 bounced emails.\n",
      "✅ Found 281 correct emails for pattern analysis.\n",
      "📊 Email pattern frequencies:\n",
      " Pattern\n",
      "flast         166\n",
      "first.last    115\n",
      "Name: count, dtype: int64\n"
     ]
    },
    {
     "name": "stderr",
     "output_type": "stream",
     "text": [
      "C:\\Users\\MarkBogorad\\AppData\\Local\\Temp\\ipykernel_8308\\950540188.py:47: SettingWithCopyWarning: \n",
      "A value is trying to be set on a copy of a slice from a DataFrame.\n",
      "Try using .loc[row_indexer,col_indexer] = value instead\n",
      "\n",
      "See the caveats in the documentation: https://pandas.pydata.org/pandas-docs/stable/user_guide/indexing.html#returning-a-view-versus-a-copy\n",
      "  correct_emails_df.loc[:, 'Pattern'] = correct_emails_df['Email'].apply(extract_pattern)\n"
     ]
    },
    {
     "data": {
      "image/png": "[encoded data removed]",
      "text/plain": [
       "<Figure size 640x480 with 1 Axes>"
      ]
     },
     "metadata": {},
     "output_type": "display_data"
    },
    {
     "name": "stdout",
     "output_type": "stream",
     "text": [
      "🔍 Most common pattern: flast\n",
      "📬 Generated 1168 new email variants.\n",
      "✅ Remixed bounced emails saved to 'c:\\Users\\MarkBogorad\\OneDrive - Rockefeller Capital Management\\MarkB\\RCM\\data\\remixed_bounced_emails.xlsx'.\n"
     ]
    }
   ],
   "source": [
    "\n",
    "# Step out of smaller_projects into RCM\n",
    "project_root = os.path.abspath(os.path.join(os.getcwd(), '..'))\n",
    "\n",
    "# Now access the existing data folder inside RCM\n",
    "data_dir = os.path.join(project_root, 'data')\n",
    "\n",
    "# Debug: Show contents of the data directory\n",
    "print(\"📁 Contents of RCM/data:\", os.listdir(data_dir))\n",
    "\n",
    "\n",
    "# Define file paths\n",
    "bounce_list_path = os.path.join(data_dir, 'bounce_list.xlsx')\n",
    "stifel_list_path = os.path.join(data_dir, 'Stifel_variations_list.xlsx')\n",
    "\n",
    "# Check if required files exist\n",
    "if not os.path.exists(bounce_list_path):\n",
    "    raise FileNotFoundError(f\"Missing file: {bounce_list_path}\")\n",
    "if not os.path.exists(stifel_list_path):\n",
    "    raise FileNotFoundError(f\"Missing file: {stifel_list_path}\")\n",
    "\n",
    "print(\"✅ All required files found. Proceeding with processing...\")\n",
    "\n",
    "# Load the Excel files\n",
    "bounce_list = pd.read_excel(bounce_list_path, engine='openpyxl')\n",
    "stifel_list = pd.read_excel(stifel_list_path, engine='openpyxl')\n",
    "\n",
    "# Extract bounced emails\n",
    "bounced_emails = bounce_list[bounce_list['EmailBouncedReason'].notnull()]['Email'].tolist()\n",
    "print(f\"📧 Found {len(bounced_emails)} bounced emails.\")\n",
    "\n",
    "# Filter correct emails\n",
    "correct_emails_df = stifel_list[stifel_list['Test Combos'] == 0]\n",
    "print(f\"✅ Found {len(correct_emails_df)} correct emails for pattern analysis.\")\n",
    "\n",
    "# Analyze email patterns\n",
    "def extract_pattern(email):\n",
    "    local_part = email.split('@')[0]\n",
    "    if '.' in local_part:\n",
    "        return 'first.last'\n",
    "    elif len(local_part) > 1 and local_part[1:].isalpha():\n",
    "        return 'flast'\n",
    "    elif len(local_part) > 1 and local_part[:-1].isalpha():\n",
    "        return 'lastf'\n",
    "    else:\n",
    "        return 'other'\n",
    "\n",
    "correct_emails_df.loc[:, 'Pattern'] = correct_emails_df['Email'].apply(extract_pattern)\n",
    "\n",
    "# Plot pattern frequency\n",
    "pattern_counts = correct_emails_df['Pattern'].value_counts()\n",
    "print(\"📊 Email pattern frequencies:\\n\", pattern_counts)\n",
    "\n",
    "pattern_counts.plot(kind='bar')\n",
    "plt.title('Frequency of Email Patterns')\n",
    "plt.xlabel('Pattern')\n",
    "plt.ylabel('Frequency')\n",
    "plt.tight_layout()\n",
    "plt.show()\n",
    "\n",
    "# Generate new email variants\n",
    "most_common_pattern = pattern_counts.idxmax()\n",
    "print(f\"🔍 Most common pattern: {most_common_pattern}\")\n",
    "\n",
    "def generate_email_variant(full_name, pattern, domain=\"@stifel.com\"):\n",
    "    parts = full_name.strip().split()\n",
    "    if len(parts) < 2:\n",
    "        return None\n",
    "    first, last = parts[0].lower(), parts[-1].lower()\n",
    "    if pattern == 'first.last':\n",
    "        return f\"{first}.{last}{domain}\"\n",
    "    elif pattern == 'flast':\n",
    "        return f\"{first[0]}{last}{domain}\"\n",
    "    elif pattern == 'lastf':\n",
    "        return f\"{last}{first[0]}{domain}\"\n",
    "    else:\n",
    "        return None\n",
    "\n",
    "new_rows = []\n",
    "for email in bounced_emails:\n",
    "    row = bounce_list[bounce_list['Email'] == email]\n",
    "    if not row.empty:\n",
    "        first_name = row['FirstName'].values[0]\n",
    "        last_name = row['LastName'].values[0]\n",
    "        full_name = f\"{first_name} {last_name}\"\n",
    "        new_email = generate_email_variant(full_name, most_common_pattern)\n",
    "        if new_email:\n",
    "            new_rows.append({\n",
    "                'Full Name': full_name,\n",
    "                'Email': new_email,\n",
    "                'Test Combos': 3,\n",
    "                'Source Bounced': email\n",
    "            })\n",
    "\n",
    "print(f\"📬 Generated {len(new_rows)} new email variants.\")\n",
    "\n",
    "# Save to Excel\n",
    "output_path = os.path.join(data_dir, 'remixed_bounced_emails.xlsx')\n",
    "pd.DataFrame(new_rows).to_excel(output_path, index=False)\n",
    "\n",
    "print(f\"✅ Remixed bounced emails saved to '{output_path}'.\")\n",
    "\n"
   ]
  },
  {
   "cell_type": "markdown",
   "metadata": {},
   "source": [
    "# Cross Check Main DB with RIA DB\n",
    "- Stifel contact list 6.11 vs RIA DB pull 6.12"
   ]
  },
  {
   "cell_type": "code",
   "execution_count": 115,
   "metadata": {},
   "outputs": [
    {
     "name": "stdout",
     "output_type": "stream",
     "text": [
      "🆕 Found 619 new contacts not in the Stifel list.\n",
      "✅ New contacts saved to 'c:\\Users\\MarkBogorad\\OneDrive - Rockefeller Capital Management\\MarkB\\RCM\\data\\RIA_new_contacts_only.xlsx'.\n"
     ]
    }
   ],
   "source": [
    "\n",
    "# Step out of smaller_projects into RCM\n",
    "project_root = os.path.abspath(os.path.join(os.getcwd(), '..'))\n",
    "data_dir = os.path.join(project_root, 'data')\n",
    "\n",
    "# Define paths to both Excel files\n",
    "stifel_path = os.path.join(data_dir, 'Stifel_Contact_Extract_6.11.25.xlsx')\n",
    "ria_path = os.path.join(data_dir, 'RIA_Stifel.xlsx')\n",
    "\n",
    "# Load the correct sheets\n",
    "stifel_df = pd.read_excel(stifel_path, sheet_name='Stifel Contacts', engine='openpyxl')\n",
    "ria_df = pd.read_excel(ria_path, sheet_name='Stifel Emails', engine='openpyxl')\n",
    "\n",
    "# Normalize email columns (strip whitespace, lowercase)\n",
    "stifel_emails = stifel_df['Email'].str.strip().str.lower()\n",
    "ria_emails = ria_df['Email'].str.strip().str.lower()\n",
    "\n",
    "# Find emails in RIA DB that are NOT in the Stifel list\n",
    "new_emails_mask = ~ria_emails.isin(stifel_emails)\n",
    "new_contacts_df = ria_df[new_emails_mask]\n",
    "\n",
    "print(f\"🆕 Found {len(new_contacts_df)} new contacts not in the Stifel list.\")\n",
    "\n",
    "# Save the new contacts to a new Excel file\n",
    "output_path = os.path.join(data_dir, 'RIA_new_contacts_only.xlsx')\n",
    "new_contacts_df.to_excel(output_path, index=False)\n",
    "\n",
    "print(f\"✅ New contacts saved to '{output_path}'.\")\n",
    "\n"
   ]
  }
 ],
 "metadata": {
  "kernelspec": {
   "display_name": "Python 3",
   "language": "python",
   "name": "python3"
  },
  "language_info": {
   "codemirror_mode": {
    "name": "ipython",
    "version": 3
   },
   "file_extension": ".py",
   "mimetype": "text/x-python",
   "name": "python",
   "nbconvert_exporter": "python",
   "pygments_lexer": "ipython3",
   "version": "3.12.10"
  }
 },
 "nbformat": 4,
 "nbformat_minor": 2
}
