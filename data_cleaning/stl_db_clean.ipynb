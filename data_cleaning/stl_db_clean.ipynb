{
 "cells": [
  {
   "cell_type": "code",
   "execution_count": 12,
   "id": "35e2744a",
   "metadata": {},
   "outputs": [
    {
     "name": "stderr",
     "output_type": "stream",
     "text": [
      "\n",
      "[notice] A new release of pip is available: 25.0.1 -> 25.1.1\n",
      "[notice] To update, run: python.exe -m pip install --upgrade pip\n"
     ]
    },
    {
     "name": "stdout",
     "output_type": "stream",
     "text": [
      "Defaulting to user installation because normal site-packages is not writeable\n",
      "Requirement already satisfied: pandas in c:\\users\\markbogorad\\appdata\\roaming\\python\\python312\\site-packages (2.3.0)\n",
      "Requirement already satisfied: openpyxl in c:\\users\\markbogorad\\appdata\\roaming\\python\\python312\\site-packages (3.1.5)\n",
      "Requirement already satisfied: matplotlib in c:\\users\\markbogorad\\appdata\\roaming\\python\\python312\\site-packages (3.10.3)\n",
      "Collecting rapidfuzz\n",
      "  Downloading rapidfuzz-3.13.0-cp312-cp312-win_amd64.whl.metadata (12 kB)\n",
      "Requirement already satisfied: numpy>=1.26.0 in c:\\users\\markbogorad\\appdata\\roaming\\python\\python312\\site-packages (from pandas) (2.3.0)\n",
      "Requirement already satisfied: python-dateutil>=2.8.2 in c:\\users\\markbogorad\\appdata\\roaming\\python\\python312\\site-packages (from pandas) (2.9.0.post0)\n",
      "Requirement already satisfied: pytz>=2020.1 in c:\\users\\markbogorad\\appdata\\roaming\\python\\python312\\site-packages (from pandas) (2025.2)\n",
      "Requirement already satisfied: tzdata>=2022.7 in c:\\users\\markbogorad\\appdata\\roaming\\python\\python312\\site-packages (from pandas) (2025.2)\n",
      "Requirement already satisfied: et-xmlfile in c:\\users\\markbogorad\\appdata\\roaming\\python\\python312\\site-packages (from openpyxl) (2.0.0)\n",
      "Requirement already satisfied: contourpy>=1.0.1 in c:\\users\\markbogorad\\appdata\\roaming\\python\\python312\\site-packages (from matplotlib) (1.3.2)\n",
      "Requirement already satisfied: cycler>=0.10 in c:\\users\\markbogorad\\appdata\\roaming\\python\\python312\\site-packages (from matplotlib) (0.12.1)\n",
      "Requirement already satisfied: fonttools>=4.22.0 in c:\\users\\markbogorad\\appdata\\roaming\\python\\python312\\site-packages (from matplotlib) (4.58.2)\n",
      "Requirement already satisfied: kiwisolver>=1.3.1 in c:\\users\\markbogorad\\appdata\\roaming\\python\\python312\\site-packages (from matplotlib) (1.4.8)\n",
      "Requirement already satisfied: packaging>=20.0 in c:\\users\\markbogorad\\appdata\\roaming\\python\\python312\\site-packages (from matplotlib) (25.0)\n",
      "Requirement already satisfied: pillow>=8 in c:\\users\\markbogorad\\appdata\\roaming\\python\\python312\\site-packages (from matplotlib) (11.2.1)\n",
      "Requirement already satisfied: pyparsing>=2.3.1 in c:\\users\\markbogorad\\appdata\\roaming\\python\\python312\\site-packages (from matplotlib) (3.2.3)\n",
      "Requirement already satisfied: six>=1.5 in c:\\users\\markbogorad\\appdata\\roaming\\python\\python312\\site-packages (from python-dateutil>=2.8.2->pandas) (1.17.0)\n",
      "Downloading rapidfuzz-3.13.0-cp312-cp312-win_amd64.whl (1.6 MB)\n",
      "   ---------------------------------------- 0.0/1.6 MB ? eta -:--:--\n",
      "   ---------------------------------------- 1.6/1.6 MB 43.7 MB/s eta 0:00:00\n",
      "Installing collected packages: rapidfuzz\n",
      "Successfully installed rapidfuzz-3.13.0\n",
      "Note: you may need to restart the kernel to use updated packages.\n"
     ]
    }
   ],
   "source": [
    "%pip install pandas openpyxl matplotlib rapidfuzz\n",
    "import pandas as pd\n",
    "import matplotlib.pyplot as plt\n",
    "import os\n",
    "import difflib\n",
    "from difflib import get_close_matches"
   ]
  },
  {
   "cell_type": "code",
   "execution_count": 15,
   "id": "75a8be97",
   "metadata": {},
   "outputs": [
    {
     "name": "stdout",
     "output_type": "stream",
     "text": [
      "Merged file saved with 438 matched rows and 5015 unmatched rows.\n"
     ]
    }
   ],
   "source": [
    "import pandas as pd\n",
    "from rapidfuzz import process, fuzz\n",
    "\n",
    "# Define file paths\n",
    "old_file_path = '../data/stl/St. Louis Contacts.xlsx'\n",
    "new_file_path = '../data/stl/AG List.xlsx'\n",
    "\n",
    "# Load the Excel files\n",
    "old_df = pd.read_excel(old_file_path, engine='openpyxl')\n",
    "new_df = pd.read_excel(new_file_path, engine='openpyxl')\n",
    "\n",
    "# Preserve original names for final output\n",
    "old_df['Firm Name Original'] = old_df['Firm Name']\n",
    "new_df['Account Name Original'] = new_df['Account Name']\n",
    "\n",
    "# Normalize names for matching\n",
    "old_df['Firm Name'] = old_df['Firm Name'].astype(str).str.strip().str.lower()\n",
    "new_df['Account Name'] = new_df['Account Name'].astype(str).str.strip().str.lower()\n",
    "\n",
    "# Fuzzy match with high threshold\n",
    "match_threshold = 95\n",
    "matches = []\n",
    "matched_indices = set()\n",
    "\n",
    "for idx, account_name in new_df['Account Name'].items():\n",
    "    match_result = process.extractOne(\n",
    "        account_name,\n",
    "        old_df['Firm Name'],\n",
    "        scorer=fuzz.token_sort_ratio\n",
    "    )\n",
    "    if match_result:\n",
    "        match, score, match_idx = match_result\n",
    "        if score >= match_threshold:\n",
    "            matched_row = old_df.iloc[match_idx]\n",
    "            merged_row = pd.concat([new_df.loc[idx], matched_row], axis=0)\n",
    "            matches.append(merged_row)\n",
    "            matched_indices.add(idx)\n",
    "\n",
    "# Create DataFrame from matched rows\n",
    "matched_df = pd.DataFrame(matches)\n",
    "\n",
    "# Fill missing 'Contact' values with data from the old dataset if available\n",
    "if 'Contact' in matched_df.columns and 'Contact_old' in matched_df.columns:\n",
    "    matched_df['Contact'] = matched_df['Contact'].combine_first(matched_df['Contact_old'])\n",
    "\n",
    "# Restore original casing\n",
    "matched_df['Account Name'] = matched_df['Account Name Original']\n",
    "matched_df['Firm Name'] = matched_df['Firm Name Original']\n",
    "\n",
    "# Drop helper columns\n",
    "matched_df = matched_df.drop(columns=['Account Name Original', 'Firm Name Original'], errors='ignore')\n",
    "\n",
    "# Append unmatched rows\n",
    "unmatched_df = new_df[~new_df.index.isin(matched_indices)]\n",
    "final_df = pd.concat([matched_df, unmatched_df], ignore_index=True)\n",
    "\n",
    "# Save result\n",
    "final_df.to_excel('../data/stl/Merged_Contacts.xlsx', index=False)\n",
    "\n",
    "print(f\"Merged file saved with {len(matched_df)} matched rows and {len(unmatched_df)} unmatched rows.\")\n",
    "\n",
    "\n"
   ]
  },
  {
   "cell_type": "code",
   "execution_count": 10,
   "id": "c09a43b4",
   "metadata": {},
   "outputs": [
    {
     "name": "stdout",
     "output_type": "stream",
     "text": [
      "Using column 'Account Name' as 'Account Name'\n",
      "Merged file saved with 497 matched rows and 630 unmatched rows.\n"
     ]
    }
   ],
   "source": [
    "import pandas as pd\n",
    "from rapidfuzz import process, fuzz\n",
    "\n",
    "# Define file paths\n",
    "old_file_path = '../data/stl/St. Louis Contacts.xlsx'\n",
    "new_file_path = '../data/stl/STL Prospect List 7.21.25.xlsx'\n",
    "output_file_path = '../data/stl/Merged_Prospects_7.21.25.xlsx'\n",
    "\n",
    "# Load the Excel files\n",
    "old_df = pd.read_excel(old_file_path, engine='openpyxl')\n",
    "new_df = pd.read_excel(new_file_path, sheet_name='STL Accounts', engine='openpyxl')\n",
    "\n",
    "# Clean column names\n",
    "old_df.columns = old_df.columns.str.strip().str.replace('\\u00A0', ' ').str.replace('\\n', ' ')\n",
    "new_df.columns = new_df.columns.str.strip().str.replace('\\u00A0', ' ').str.replace('\\n', ' ')\n",
    "\n",
    "# Identify the best match for 'Account Name' column\n",
    "account_col = process.extractOne('Account Name', new_df.columns, scorer=fuzz.ratio)[0]\n",
    "print(f\"Using column '{account_col}' as 'Account Name'\")\n",
    "\n",
    "# Preserve original names for final output\n",
    "old_df['Firm Name Original'] = old_df['Firm Name']\n",
    "new_df['Account Name Original'] = new_df[account_col]\n",
    "\n",
    "# Normalize names for matching\n",
    "old_df['Firm Name Lower'] = old_df['Firm Name'].astype(str).str.strip().str.lower()\n",
    "new_df['Account Name Lower'] = new_df[account_col].astype(str).str.strip().str.lower()\n",
    "\n",
    "# Fuzzy match with high threshold\n",
    "match_threshold = 95\n",
    "matches = []\n",
    "matched_indices = set()\n",
    "\n",
    "for idx, account_name in new_df['Account Name Lower'].items():\n",
    "    match_result = process.extractOne(\n",
    "        account_name,\n",
    "        old_df['Firm Name Lower'],\n",
    "        scorer=fuzz.token_sort_ratio\n",
    "    )\n",
    "    if match_result:\n",
    "        match, score, match_idx = match_result\n",
    "        if score >= match_threshold:\n",
    "            matched_row = old_df.iloc[match_idx]\n",
    "            new_row = new_df.loc[idx]\n",
    "            combined_row = pd.concat([new_row, matched_row])\n",
    "            matches.append(combined_row)\n",
    "            matched_indices.add(idx)\n",
    "\n",
    "# Create DataFrame from matched rows\n",
    "matched_df = pd.DataFrame(matches)\n",
    "\n",
    "# Append unmatched rows from new_df\n",
    "unmatched_df = new_df[~new_df.index.isin(matched_indices)]\n",
    "final_df = pd.concat([matched_df, unmatched_df], ignore_index=True)\n",
    "\n",
    "# Save result\n",
    "final_df.to_excel(output_file_path, index=False)\n",
    "\n",
    "print(f\"Merged file saved with {len(matched_df)} matched rows and {len(unmatched_df)} unmatched rows.\")\n",
    "\n"
   ]
  }
 ],
 "metadata": {
  "kernelspec": {
   "display_name": "Python 3",
   "language": "python",
   "name": "python3"
  },
  "language_info": {
   "codemirror_mode": {
    "name": "ipython",
    "version": 3
   },
   "file_extension": ".py",
   "mimetype": "text/x-python",
   "name": "python",
   "nbconvert_exporter": "python",
   "pygments_lexer": "ipython3",
   "version": "3.12.10"
  }
 },
 "nbformat": 4,
 "nbformat_minor": 5
}
