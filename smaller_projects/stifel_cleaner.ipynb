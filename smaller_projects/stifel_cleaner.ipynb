{
 "cells": [
  {
   "cell_type": "markdown",
   "metadata": {},
   "source": [
    "# Stifel Email List Styles\n",
    "\n",
    "## Bounced Emails\n",
    "- mark.bogorad@stifel.com\n",
    "- bogoradm@stifel.com\n",
    "\n",
    "## Wokring Styles\n",
    "- mbogorad@stifel.com\n",
    "- mark.bogorad@stifel.com\n",
    "- bogoradm@stifel.com"
   ]
  },
  {
   "cell_type": "markdown",
   "metadata": {},
   "source": [
    "# Packages + Data Load"
   ]
  },
  {
   "cell_type": "code",
   "execution_count": null,
   "metadata": {},
   "outputs": [],
   "source": [
    "import pandas as pd\n",
    "import re\n",
    "\n"
   ]
  },
  {
   "cell_type": "markdown",
   "metadata": {},
   "source": [
    "# Contacrs vs Bounce Cross Reference"
   ]
  },
  {
   "cell_type": "code",
   "execution_count": null,
   "metadata": {},
   "outputs": [],
   "source": []
  },
  {
   "cell_type": "markdown",
   "metadata": {},
   "source": [
    "# Dupe Check"
   ]
  },
  {
   "cell_type": "code",
   "execution_count": null,
   "metadata": {},
   "outputs": [],
   "source": []
  },
  {
   "cell_type": "markdown",
   "metadata": {},
   "source": [
    "# Bounced Emails Alternatives"
   ]
  },
  {
   "cell_type": "code",
   "execution_count": null,
   "metadata": {},
   "outputs": [],
   "source": [
    "# Example Inputs\n",
    "bounced_emails = [\"mark.bogorad@stifel.com\", \"bogoradm@stifel.com\"]\n",
    "working_emails = [\"mbogorad@stifel.com\", \"mark.bogorad@stifel.com\", \"bogoradm@stifel.com\"]\n",
    "domain = \"@stifel.com\"\n",
    "\n",
    "# Extract local parts (before @)\n",
    "bounced_local_parts = [email.split(\"@\")[0] for email in bounced_emails]\n",
    "working_local_parts = set(email.split(\"@\")[0] for email in working_emails)\n",
    "\n",
    "# Basic name tokenization and variation generation\n",
    "def generate_variants(name):\n",
    "    parts = re.split(r\"[._]\", name)\n",
    "    variants = set()\n",
    "\n",
    "    if len(parts) == 2:\n",
    "        first, last = parts\n",
    "        variants.update([\n",
    "            f\"{first}.{last}\",\n",
    "            f\"{first[0]}{last}\",\n",
    "            f\"{last}{first[0]}\",\n",
    "            f\"{first}\",\n",
    "            f\"{last}\"\n",
    "        ])\n",
    "    else:\n",
    "        # fallback for initials or unknown structure\n",
    "        variants.add(name)\n",
    "\n",
    "    return variants\n",
    "\n",
    "# Reconstruct possible emails and check against working list\n",
    "possible_fixes = {}\n",
    "\n",
    "for bounced in bounced_local_parts:\n",
    "    variants = generate_variants(bounced)\n",
    "    new_emails = [v + domain for v in variants if v in working_local_parts]\n",
    "    if new_emails:\n",
    "        possible_fixes[bounced + domain] = new_emails\n",
    "\n",
    "# Output\n",
    "fix_df = pd.DataFrame([\n",
    "    {\"Bounced Email\": k, \"Possible Working Matches\": v} \n",
    "    for k, v in possible_fixes.items()\n",
    "])"
   ]
  },
  {
   "cell_type": "markdown",
   "metadata": {},
   "source": [
    "# Export to Excel"
   ]
  },
  {
   "cell_type": "code",
   "execution_count": null,
   "metadata": {},
   "outputs": [],
   "source": [
    "# Export to Excel\n",
    "output_file = \"Stifel_emails.xlsx\"\n",
    "with pd.ExcelWriter(output_file, engine='xlsxwriter') as writer:\n",
    "    fix_df.to_excel(writer, sheet_name=\"Matches\", index=False)\n",
    "\n",
    "print(f\"Exported results to {output_file}\")\n"
   ]
  }
 ],
 "metadata": {
  "language_info": {
   "name": "python"
  }
 },
 "nbformat": 4,
 "nbformat_minor": 2
}
